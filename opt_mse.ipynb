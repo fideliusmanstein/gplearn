{
 "cells": [
  {
   "cell_type": "code",
   "execution_count": 17,
   "metadata": {},
   "outputs": [],
   "source": [
    "import numpy as np\n",
    "from gplearn.functions import _Function\n",
    "\n",
    "\n",
    "def build_callable_program(program):\n",
    "    # Check for single-node programs\n",
    "    node = program[0]\n",
    "    if isinstance(node, float):\n",
    "        return lambda X: np.repeat(node, X.shape[0])\n",
    "    if isinstance(node, int):\n",
    "        return lambda X: X[:, node]\n",
    "\n",
    "    apply_stack = []\n",
    "\n",
    "    for node in program:\n",
    "        if isinstance(node, _Function):\n",
    "            apply_stack.append([node])\n",
    "        else:\n",
    "            # Lazily evaluate later\n",
    "            apply_stack[-1].append(node)\n",
    "        \n",
    "        while len(apply_stack[-1]) == apply_stack[-1][0].arity + 1:\n",
    "            # Apply functions that have sufficient arguments\n",
    "            function = apply_stack[-1][0]\n",
    "            terminals = apply_stack[-1][1:]\n",
    "            intermediate_function = lambda X, f=function, t=terminals: f(\n",
    "                *[translate_terminal(terminal)(X) for terminal in t])\n",
    "            if len(apply_stack) != 1:\n",
    "                apply_stack.pop()\n",
    "                apply_stack[-1].append(intermediate_function)\n",
    "            else:\n",
    "                return intermediate_function\n",
    "            \n",
    "def translate_terminal(terminal):\n",
    "    if isinstance(terminal, int):\n",
    "        return lambda X: X[:, terminal]\n",
    "    if isinstance(terminal, float):\n",
    "        return lambda X: np.repeat(terminal, X.shape[0])\n",
    "    if callable(terminal):\n",
    "        return terminal\n",
    "    "
   ]
  },
  {
   "cell_type": "code",
   "execution_count": 19,
   "metadata": {},
   "outputs": [
    {
     "data": {
      "text/plain": [
       "array([-1.5, -2.5])"
      ]
     },
     "execution_count": 19,
     "metadata": {},
     "output_type": "execute_result"
    }
   ],
   "source": [
    "from gplearn.functions import add2, mul2, neg1\n",
    "\n",
    "program = [add2, mul2, 0.5, 0, neg1, 1] # (0.5 * x1) + (-x2)\n",
    "\n",
    "func = build_callable_program(program)\n",
    "\n",
    "x = np.array([[1, 2], [3, 4]])\n",
    "func(x)"
   ]
  },
  {
   "cell_type": "code",
   "execution_count": null,
   "metadata": {},
   "outputs": [],
   "source": []
  }
 ],
 "metadata": {
  "kernelspec": {
   "display_name": ".venv",
   "language": "python",
   "name": "python3"
  },
  "language_info": {
   "codemirror_mode": {
    "name": "ipython",
    "version": 3
   },
   "file_extension": ".py",
   "mimetype": "text/x-python",
   "name": "python",
   "nbconvert_exporter": "python",
   "pygments_lexer": "ipython3",
   "version": "3.12.3"
  }
 },
 "nbformat": 4,
 "nbformat_minor": 2
}
