{
 "cells": [
  {
   "cell_type": "code",
   "execution_count": null,
   "id": "a6b3db5f",
   "metadata": {},
   "outputs": [],
   "source": [
    "import numpy as np\n",
    "from sklearn.model_selection import train_test_split\n",
    "# ignore warnings\n",
    "import warnings\n",
    "warnings.filterwarnings('ignore')\n",
    "\n",
    "\n",
    "def data_generation(length: int = 100, \n",
    "                    ds_error: float = 0.1, \n",
    "                    means = (0, 1, 3), \n",
    "                    vars = (1, .1, 5), \n",
    "                    seed: int = 42):\n",
    "    # generates a dataset of the form y = (1 * a) * (1.5 * b) - (0.5 * c)\n",
    "    np.random.seed(seed)\n",
    "    a = np.random.normal(means[0], vars[0], length)\n",
    "    b = np.random.normal(means[1], vars[1], length)\n",
    "    c = np.random.normal(means[2], vars[2], length)\n",
    "    y = (1 * a) * (1.5 * b) - (0.5 * c)\n",
    "    y = y + np.random.normal(0, ds_error, length)\n",
    "    x = np.stack((a, b, c), axis=1)\n",
    "    # make a train and test split\n",
    "    x_train, x_test, y_train, y_test = train_test_split(x, y, test_size=0.2, random_state=seed)\n",
    "    return x_train, y_train, x_test, y_test"
   ]
  },
  {
   "cell_type": "code",
   "execution_count": 2,
   "id": "dc2246c2",
   "metadata": {},
   "outputs": [],
   "source": [
    "import time\n",
    "from gplearn.genetic import SymbolicRegressor\n",
    "\n",
    "def evaluate_regressor(length: int = 100, \n",
    "                       ds_error: float = 0.1, \n",
    "                       means = (0, 1, 3), \n",
    "                       vars = (1, .1, 5), \n",
    "                       optimized: bool = True,\n",
    "                       seed: int = 42):\n",
    "    # generate data given the parameters\n",
    "    x_train, y_train, x_test, y_test = data_generation(length, ds_error, means, vars, seed)\n",
    "\n",
    "    if optimized:\n",
    "        print(\"Optimized regressor\")\n",
    "        regressor = SymbolicRegressor(population_size=100,\n",
    "                                      generations=200, stopping_criteria=0.01,\n",
    "                                      init_depth=(2, 4),\n",
    "                                      optimize_constants=True,\n",
    "                                      p_crossover=0.7, p_subtree_mutation=0.1,\n",
    "                                      p_hoist_mutation=0.05, p_point_mutation=0.1,\n",
    "                                      max_samples=0.9, verbose=0,\n",
    "                                      parsimony_coefficient=0.01, random_state=42)\n",
    "    else:\n",
    "        print(\"Default regressor\")\n",
    "        regressor = SymbolicRegressor(population_size=5000,\n",
    "                                      generations=20, stopping_criteria=0.01,\n",
    "                                      init_depth=(2, 6),\n",
    "                                      p_crossover=0.7, p_subtree_mutation=0.1,\n",
    "                                      p_hoist_mutation=0.05, p_point_mutation=0.1,\n",
    "                                      max_samples=0.9, verbose=0,\n",
    "                                      parsimony_coefficient=0.01, random_state=0)\n",
    "    # fit and time the optimized regressor\n",
    "    start_time = time.time()\n",
    "    regressor.fit(x_train, y_train)\n",
    "    end_time = time.time()\n",
    "\n",
    "    score = regressor.score(x_test, y_test)\n",
    "    error = np.mean(np.abs(regressor.predict(x_test) - y_test))\n",
    "\n",
    "    print(f\"regressor score: {score}\")\n",
    "    print(f\"regressor error: {error}\")\n",
    "    print(f\"regressor time: {end_time - start_time:.2f} seconds\")\n",
    "    return score, error, end_time - start_time, \n",
    "\n"
   ]
  },
  {
   "cell_type": "code",
   "execution_count": 3,
   "id": "6cb1e152",
   "metadata": {},
   "outputs": [
    {
     "name": "stdout",
     "output_type": "stream",
     "text": [
      "Optimized regressor\n",
      "regressor score: 0.9984278409060291\n",
      "regressor error: 0.05673804755059164\n",
      "regressor time: 25.55 seconds\n",
      "Default regressor\n",
      "regressor score: 0.9973935721237174\n",
      "regressor error: 0.06928309641299085\n",
      "regressor time: 73.57 seconds\n"
     ]
    }
   ],
   "source": [
    "# default parameters for reference\n",
    "default_optimized = evaluate_regressor(optimized=True)\n",
    "default_unoptimized = evaluate_regressor(optimized=False)"
   ]
  },
  {
   "cell_type": "code",
   "execution_count": 4,
   "id": "1861fa7f",
   "metadata": {},
   "outputs": [
    {
     "name": "stdout",
     "output_type": "stream",
     "text": [
      "no error in the dataset: 0.0\n",
      "Optimized regressor\n",
      "regressor score: 1.0\n",
      "regressor error: 3.4960973921416282e-09\n",
      "regressor time: 0.26 seconds\n",
      "Default regressor\n",
      "regressor score: 0.9995545932247774\n",
      "regressor error: 0.030140202986993096\n",
      "regressor time: 53.57 seconds\n",
      "small error in the dataset: 0.1\n",
      "Optimized regressor\n",
      "regressor score: 0.9984278409060291\n",
      "regressor error: 0.05673804755059164\n",
      "regressor time: 25.17 seconds\n",
      "Default regressor\n",
      "regressor score: 0.9973935721237174\n",
      "regressor error: 0.06928309641299085\n",
      "regressor time: 61.13 seconds\n",
      "medium error in the dataset: 0.5\n",
      "Optimized regressor\n",
      "regressor score: -0.3859349573219899\n",
      "regressor error: 1.7070638641571456\n",
      "regressor time: 18.65 seconds\n",
      "Default regressor\n",
      "regressor score: 0.955957407818726\n",
      "regressor error: 0.28847161585355685\n",
      "regressor time: 75.92 seconds\n",
      "large error in the dataset: 1.0\n",
      "Optimized regressor\n",
      "regressor score: -0.21101642093085893\n",
      "regressor error: 1.6957493968784498\n",
      "regressor time: 10.51 seconds\n",
      "Default regressor\n",
      "regressor score: 0.7899131946053033\n",
      "regressor error: 0.6650519594517464\n",
      "regressor time: 50.59 seconds\n"
     ]
    }
   ],
   "source": [
    "print(\"no error in the dataset: 0.0\")\n",
    "no_error_optimized = evaluate_regressor(ds_error=0.0, optimized=True)\n",
    "no_error_unoptimized = evaluate_regressor(ds_error=0.0, optimized=False)\n",
    "print(\"small error in the dataset: 0.1\")\n",
    "small_error_optimized = evaluate_regressor(ds_error=0.1, optimized=True)\n",
    "small_error_unoptimized = evaluate_regressor(ds_error=0.1, optimized=False)\n",
    "print(\"medium error in the dataset: 0.5\")\n",
    "medium_error_optimized = evaluate_regressor(ds_error=0.5, optimized=True)\n",
    "medium_error_unoptimized = evaluate_regressor(ds_error=0.5, optimized=False)\n",
    "print(\"large error in the dataset: 1.0\")\n",
    "large_error_optimized = evaluate_regressor(ds_error=1.0, optimized=True)\n",
    "large_error_unoptimized = evaluate_regressor(ds_error=1.0, optimized=False)"
   ]
  },
  {
   "cell_type": "code",
   "execution_count": 5,
   "id": "dd1b9032",
   "metadata": {},
   "outputs": [
    {
     "name": "stdout",
     "output_type": "stream",
     "text": [
      "small dataset: 10 samples\n",
      "Optimized regressor\n",
      "regressor score: -3.66602664931571\n",
      "regressor error: 0.17312877484377015\n",
      "regressor time: 0.84 seconds\n",
      "Default regressor\n",
      "regressor score: -2.416549650433105\n",
      "regressor error: 0.15304096422958974\n",
      "regressor time: 66.85 seconds\n",
      "large dataset: 1000 samples\n",
      "Optimized regressor\n",
      "regressor score: 0.21394141743521045\n",
      "regressor error: 2.057830708740989\n",
      "regressor time: 11.06 seconds\n",
      "Default regressor\n",
      "regressor score: 0.998718012354896\n",
      "regressor error: 0.0823791273589208\n",
      "regressor time: 68.50 seconds\n"
     ]
    }
   ],
   "source": [
    "print(\"small dataset: 10 samples\")\n",
    "small_data_optimized = evaluate_regressor(length=10, optimized=True)\n",
    "small_data_unoptimized = evaluate_regressor(length=10, optimized=False)\n",
    "print(\"large dataset: 1000 samples\")\n",
    "large_data_optimized = evaluate_regressor(length=1000, optimized=True)\n",
    "large_data_unoptimized = evaluate_regressor(length=1000, optimized=False)"
   ]
  },
  {
   "cell_type": "code",
   "execution_count": 6,
   "id": "a9845bfb",
   "metadata": {},
   "outputs": [
    {
     "name": "stdout",
     "output_type": "stream",
     "text": [
      "a, b, c in dataset are close to each other: 0, 0, 0\n",
      "Optimized regressor\n",
      "regressor score: 0.9990371174238002\n",
      "regressor error: 0.05302644276863968\n",
      "regressor time: 26.58 seconds\n",
      "Default regressor\n",
      "regressor score: 0.9989842951012847\n",
      "regressor error: 0.05578443060064262\n",
      "regressor time: 65.50 seconds\n",
      "a, b, c in dataset are far from each other: 0, 10, 20\n",
      "Optimized regressor\n",
      "regressor score: 0.9999578940346996\n",
      "regressor error: 0.06078279443033243\n",
      "regressor time: 47.29 seconds\n",
      "Default regressor\n",
      "regressor score: 0.9997938996879233\n",
      "regressor error: 0.12492604059204226\n",
      "regressor time: 53.37 seconds\n"
     ]
    }
   ],
   "source": [
    "print(\"a, b, c in dataset are close to each other: 0, 0, 0\")\n",
    "close_means_optimized = evaluate_regressor(means=(0, 0, 0), optimized=True)\n",
    "close_means_unoptimized = evaluate_regressor(means=(0, 0, 0), optimized=False)\n",
    "print(\"a, b, c in dataset are far from each other: 0, 10, 20\")\n",
    "far_means_optimized = evaluate_regressor(means=(0, 10, 20), optimized=True)\n",
    "far_means_unoptimized = evaluate_regressor(means=(0, 10, 20), optimized=False)"
   ]
  },
  {
   "cell_type": "code",
   "execution_count": 7,
   "id": "2c7b24b1",
   "metadata": {},
   "outputs": [
    {
     "name": "stdout",
     "output_type": "stream",
     "text": [
      "a, b, c have similar variance: 1, 1, 1\n",
      "Optimized regressor\n",
      "regressor score: 0.9212744036469296\n",
      "regressor error: 0.28986875596895506\n",
      "regressor time: 12.19 seconds\n",
      "Default regressor\n",
      "regressor score: 0.9884212044824646\n",
      "regressor error: 0.13999229985695028\n",
      "regressor time: 48.36 seconds\n",
      "a, b, c have different variance: 1, 0.1, 5\n",
      "Optimized regressor\n",
      "regressor score: 0.9984278409060291\n",
      "regressor error: 0.05673804755059164\n",
      "regressor time: 24.84 seconds\n",
      "Default regressor\n",
      "regressor score: 0.9973935721237174\n",
      "regressor error: 0.06928309641299085\n",
      "regressor time: 53.23 seconds\n"
     ]
    }
   ],
   "source": [
    "print(\"a, b, c have similar variance: 1, 1, 1\")\n",
    "similar_vars_optimized = evaluate_regressor(vars=(1, 1, 1), optimized=True)\n",
    "similar_vars_unoptimized = evaluate_regressor(vars=(1, 1, 1), optimized=False)\n",
    "print(\"a, b, c have different variance: 1, 0.1, 5\")\n",
    "different_vars_optimized = evaluate_regressor(vars=(1, 0.1, 5), optimized=True)\n",
    "different_vars_unoptimized = evaluate_regressor(vars=(1, 0.1, 5), optimized=False)"
   ]
  },
  {
   "cell_type": "code",
   "execution_count": null,
   "id": "95be71b9",
   "metadata": {},
   "outputs": [],
   "source": []
  },
  {
   "cell_type": "code",
   "execution_count": null,
   "id": "02bdb19f",
   "metadata": {},
   "outputs": [],
   "source": []
  }
 ],
 "metadata": {
  "kernelspec": {
   "display_name": ".venv",
   "language": "python",
   "name": "python3"
  },
  "language_info": {
   "codemirror_mode": {
    "name": "ipython",
    "version": 3
   },
   "file_extension": ".py",
   "mimetype": "text/x-python",
   "name": "python",
   "nbconvert_exporter": "python",
   "pygments_lexer": "ipython3",
   "version": "3.12.3"
  }
 },
 "nbformat": 4,
 "nbformat_minor": 5
}
